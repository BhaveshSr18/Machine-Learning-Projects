{
  "cells": [
    {
      "cell_type": "markdown",
      "source": [
        "##**Import all Libraries**"
      ],
      "metadata": {
        "id": "Rfzc5qLF87H4"
      }
    },
    {
      "cell_type": "code",
      "execution_count": 1,
      "metadata": {
        "id": "AKVXBHbpi3hf"
      },
      "outputs": [],
      "source": [
        "import tensorflow as tf\n",
        "from tensorflow.keras import layers, models\n",
        "from tensorflow.keras.preprocessing import image_dataset_from_directory\n",
        "import matplotlib.pyplot as plt\n",
        "import numpy as np\n",
        "import os\n",
        "import pandas as pd\n",
        "from tensorflow.keras.callbacks import ModelCheckpoint, EarlyStopping\n",
        "from tensorflow.keras import regularizers\n",
        "import zipfile"
      ]
    },
    {
      "cell_type": "markdown",
      "source": [
        "## **Mount Google Drive and Load Augmented Images**"
      ],
      "metadata": {
        "id": "7rnk1zxI9P3G"
      }
    },
    {
      "cell_type": "code",
      "execution_count": 2,
      "metadata": {
        "colab": {
          "base_uri": "https://localhost:8080/"
        },
        "id": "O3pge0yuj-Gm",
        "outputId": "bcacb1b3-e544-4980-e7c5-a90f77c3ef77"
      },
      "outputs": [
        {
          "output_type": "stream",
          "name": "stdout",
          "text": [
            "Mounted at /content/drive\n"
          ]
        }
      ],
      "source": [
        "from google.colab import drive\n",
        "drive.mount('/content/drive')"
      ]
    },
    {
      "cell_type": "code",
      "source": [
        "# Unzip the Test dataset to data final\n",
        "\n",
        "with zipfile.ZipFile('/content/drive/MyDrive/ML Project/Augmentation3.zip','r') as zip_ref:\n",
        "  zip_ref.extractall('data final')"
      ],
      "metadata": {
        "id": "tx_nH4GHNNrB"
      },
      "execution_count": 3,
      "outputs": []
    },
    {
      "cell_type": "markdown",
      "source": [
        "## **Validation and Test Data Split with Resizing**"
      ],
      "metadata": {
        "id": "hjJfEYb8-G5-"
      }
    },
    {
      "cell_type": "code",
      "execution_count": 4,
      "metadata": {
        "colab": {
          "base_uri": "https://localhost:8080/"
        },
        "id": "Q4cNIR5Sj-8F",
        "outputId": "db54c2f8-06ab-4458-e654-7fc8492fb0ad"
      },
      "outputs": [
        {
          "output_type": "stream",
          "name": "stdout",
          "text": [
            "Found 3387 files belonging to 5 classes.\n",
            "Using 2710 files for training.\n",
            "Found 3387 files belonging to 5 classes.\n",
            "Using 677 files for validation.\n"
          ]
        }
      ],
      "source": [
        "data_dir = '/content/data final/augmented_images3/training_set'\n",
        "img_size = 224\n",
        "bach_size = 32\n",
        "# Training and validation dataset split\n",
        "train_dataset = tf.keras.utils.image_dataset_from_directory(data_dir,\n",
        "                                                         seed = 123,\n",
        "                                                         validation_split = 0.2,\n",
        "                                                         subset = 'training',\n",
        "                                                         label_mode = 'categorical',\n",
        "                                                         batch_size = bach_size,\n",
        "                                                         image_size = (img_size, img_size))\n",
        "val_dataset = tf.keras.utils.image_dataset_from_directory(data_dir,\n",
        "                                                         seed = 123,\n",
        "                                                         validation_split = 0.2,\n",
        "                                                         subset = 'validation',\n",
        "                                                         label_mode = 'categorical',\n",
        "                                                         batch_size = bach_size,\n",
        "                                                         image_size = (img_size, img_size))"
      ]
    },
    {
      "cell_type": "markdown",
      "source": [
        "## **ResNet50 Pretrained Model, Two More Dense layers With L2 Reguralization and Dropout Layer**"
      ],
      "metadata": {
        "id": "qlrAD7N--VV3"
      }
    },
    {
      "cell_type": "code",
      "execution_count": 5,
      "metadata": {
        "id": "vGFae6TPi3YQ",
        "colab": {
          "base_uri": "https://localhost:8080/"
        },
        "outputId": "cd4bc12e-8f1a-43cf-d0a8-19d0cf5693a5"
      },
      "outputs": [
        {
          "output_type": "stream",
          "name": "stdout",
          "text": [
            "Downloading data from https://storage.googleapis.com/tensorflow/keras-applications/resnet/resnet50_weights_tf_dim_ordering_tf_kernels_notop.h5\n",
            "94765736/94765736 [==============================] - 0s 0us/step\n"
          ]
        }
      ],
      "source": [
        "# Load ResNet50 model pretrained on ImageNet, without top layers\n",
        "resnet_model = tf.keras.applications.ResNet50(\n",
        "    include_top=False,  # Exclude the final classification layer\n",
        "    input_shape=(224, 224, 3),  # Input size\n",
        "    weights='imagenet'  # Use pretrained weights on ImageNet\n",
        ")\n",
        "\n",
        "# Freeze the base model\n",
        "resnet_model.trainable = False\n",
        "\n",
        "# Add classification layers on top of the base model\n",
        "model = models.Sequential([\n",
        "\n",
        "    resnet_model,\n",
        "\n",
        "    layers.GlobalAveragePooling2D(),\n",
        "\n",
        "    layers.Dense(1024, activation='relu',kernel_regularizer=regularizers.l2(0.01),\n",
        "                 input_shape=(224, 224, 3)),\n",
        "\n",
        "    layers.Dropout(0.5),\n",
        "\n",
        "    layers.Dense(5, activation='softmax',kernel_regularizer=regularizers.l2(0.01))  # Assuming you have 5 classes\n",
        "])"
      ]
    },
    {
      "cell_type": "markdown",
      "source": [
        "## **Learning Rate Scheduler and Early Stopping methods**"
      ],
      "metadata": {
        "id": "oNHXu_vS-mgG"
      }
    },
    {
      "cell_type": "code",
      "execution_count": 6,
      "metadata": {
        "id": "Etd44cEAE7PJ"
      },
      "outputs": [],
      "source": [
        "lr_scheduler = tf.keras.callbacks.ReduceLROnPlateau(\n",
        "    monitor='val_loss',\n",
        "    factor=0.5,\n",
        "    patience=5,  # Number of epochs with no improvement before reducing LR\n",
        "    min_lr=1e-7  # Lower bound on the learning rate\n",
        ")"
      ]
    },
    {
      "cell_type": "code",
      "execution_count": 7,
      "metadata": {
        "id": "QyRlQ8Qr5Nfu"
      },
      "outputs": [],
      "source": [
        "early_stopping = tf.keras.callbacks.EarlyStopping (\n",
        "                                                    monitor=\"val_accuracy\",\n",
        "                                                    min_delta=0.01,\n",
        "                                                    patience=5,\n",
        "                                                    verbose=1\n",
        "                                                  )"
      ]
    },
    {
      "cell_type": "markdown",
      "source": [
        "### **Model Checkpoint**"
      ],
      "metadata": {
        "id": "Px5Eim3T_asn"
      }
    },
    {
      "cell_type": "code",
      "execution_count": 8,
      "metadata": {
        "id": "Owz5fZ8e5Qi7"
      },
      "outputs": [],
      "source": [
        "model_cps = tf.keras.callbacks.ModelCheckpoint (\n",
        "                                                  filepath = \"/content/drive/MyDrive/ML Project/ResNet_Model.keras\",\n",
        "                                                  monitor='val_accuracy',\n",
        "                                                  verbose=1,\n",
        "                                                  save_best_only=True,\n",
        "                                                  save_weights_only=False,\n",
        "\n",
        "                                               )"
      ]
    },
    {
      "cell_type": "markdown",
      "source": [
        "## **Compilation and training**"
      ],
      "metadata": {
        "id": "Q41WA_0MAIP1"
      }
    },
    {
      "cell_type": "code",
      "execution_count": 10,
      "metadata": {
        "id": "vCqDW5qNizXM"
      },
      "outputs": [],
      "source": [
        "# Compile the model - tf.keras.optimizers.Adam(learning_rate=0.0001)\n",
        "model.compile(optimizer='adam',\n",
        "              loss='categorical_crossentropy',\n",
        "              metrics=['accuracy']\n",
        "              )"
      ]
    },
    {
      "cell_type": "code",
      "execution_count": 11,
      "metadata": {
        "colab": {
          "base_uri": "https://localhost:8080/"
        },
        "id": "BMai9UIwlDaO",
        "outputId": "112e16c6-cc4f-4688-ccc1-e1e0e8b2a6c3"
      },
      "outputs": [
        {
          "output_type": "stream",
          "name": "stdout",
          "text": [
            "Epoch 1/20\n",
            "85/85 [==============================] - ETA: 0s - loss: 8.3850 - accuracy: 0.4295\n",
            "Epoch 1: val_accuracy improved from -inf to 0.51256, saving model to /content/drive/MyDrive/ML Project/ResNet_Model.keras\n",
            "85/85 [==============================] - 63s 702ms/step - loss: 8.3850 - accuracy: 0.4295 - val_loss: 4.2118 - val_accuracy: 0.5126 - lr: 0.0010\n",
            "Epoch 2/20\n",
            "85/85 [==============================] - ETA: 0s - loss: 3.1984 - accuracy: 0.5107\n",
            "Epoch 2: val_accuracy did not improve from 0.51256\n",
            "85/85 [==============================] - 56s 663ms/step - loss: 3.1984 - accuracy: 0.5107 - val_loss: 2.4853 - val_accuracy: 0.5096 - lr: 0.0010\n",
            "Epoch 3/20\n",
            "85/85 [==============================] - ETA: 0s - loss: 2.1423 - accuracy: 0.5203\n",
            "Epoch 3: val_accuracy improved from 0.51256 to 0.55835, saving model to /content/drive/MyDrive/ML Project/ResNet_Model.keras\n",
            "85/85 [==============================] - 57s 668ms/step - loss: 2.1423 - accuracy: 0.5203 - val_loss: 1.8784 - val_accuracy: 0.5583 - lr: 0.0010\n",
            "Epoch 4/20\n",
            "85/85 [==============================] - ETA: 0s - loss: 1.7703 - accuracy: 0.5303\n",
            "Epoch 4: val_accuracy improved from 0.55835 to 0.56278, saving model to /content/drive/MyDrive/ML Project/ResNet_Model.keras\n",
            "85/85 [==============================] - 57s 675ms/step - loss: 1.7703 - accuracy: 0.5303 - val_loss: 1.6009 - val_accuracy: 0.5628 - lr: 0.0010\n",
            "Epoch 5/20\n",
            "85/85 [==============================] - ETA: 0s - loss: 1.5545 - accuracy: 0.5387\n",
            "Epoch 5: val_accuracy did not improve from 0.56278\n",
            "85/85 [==============================] - 57s 671ms/step - loss: 1.5545 - accuracy: 0.5387 - val_loss: 1.5490 - val_accuracy: 0.5347 - lr: 0.0010\n",
            "Epoch 6/20\n",
            "85/85 [==============================] - ETA: 0s - loss: 1.4877 - accuracy: 0.5435\n",
            "Epoch 6: val_accuracy improved from 0.56278 to 0.58493, saving model to /content/drive/MyDrive/ML Project/ResNet_Model.keras\n",
            "85/85 [==============================] - 58s 683ms/step - loss: 1.4877 - accuracy: 0.5435 - val_loss: 1.4017 - val_accuracy: 0.5849 - lr: 0.0010\n",
            "Epoch 7/20\n",
            "85/85 [==============================] - ETA: 0s - loss: 1.4119 - accuracy: 0.5469\n",
            "Epoch 7: val_accuracy did not improve from 0.58493\n",
            "85/85 [==============================] - 57s 668ms/step - loss: 1.4119 - accuracy: 0.5469 - val_loss: 1.4264 - val_accuracy: 0.5318 - lr: 0.0010\n",
            "Epoch 8/20\n",
            "85/85 [==============================] - ETA: 0s - loss: 1.3832 - accuracy: 0.5498\n",
            "Epoch 8: val_accuracy did not improve from 0.58493\n",
            "85/85 [==============================] - 56s 660ms/step - loss: 1.3832 - accuracy: 0.5498 - val_loss: 1.3483 - val_accuracy: 0.5702 - lr: 0.0010\n",
            "Epoch 9/20\n",
            "85/85 [==============================] - ETA: 0s - loss: 1.3488 - accuracy: 0.5568\n",
            "Epoch 9: val_accuracy improved from 0.58493 to 0.58936, saving model to /content/drive/MyDrive/ML Project/ResNet_Model.keras\n",
            "85/85 [==============================] - 57s 675ms/step - loss: 1.3488 - accuracy: 0.5568 - val_loss: 1.3147 - val_accuracy: 0.5894 - lr: 0.0010\n",
            "Epoch 10/20\n",
            "85/85 [==============================] - ETA: 0s - loss: 1.3339 - accuracy: 0.5476\n",
            "Epoch 10: val_accuracy did not improve from 0.58936\n",
            "85/85 [==============================] - 57s 673ms/step - loss: 1.3339 - accuracy: 0.5476 - val_loss: 1.3513 - val_accuracy: 0.5554 - lr: 0.0010\n",
            "Epoch 11/20\n",
            "85/85 [==============================] - ETA: 0s - loss: 1.3079 - accuracy: 0.5572\n",
            "Epoch 11: val_accuracy improved from 0.58936 to 0.59084, saving model to /content/drive/MyDrive/ML Project/ResNet_Model.keras\n",
            "85/85 [==============================] - 58s 689ms/step - loss: 1.3079 - accuracy: 0.5572 - val_loss: 1.3163 - val_accuracy: 0.5908 - lr: 0.0010\n",
            "Epoch 11: early stopping\n"
          ]
        }
      ],
      "source": [
        "# Train the model\n",
        "history = model.fit(\n",
        "    train_dataset,\n",
        "    validation_data=val_dataset,\n",
        "    epochs=20,\n",
        "    callbacks=[model_cps,early_stopping,lr_scheduler]\n",
        ")"
      ]
    },
    {
      "cell_type": "markdown",
      "source": [
        "## **Model Performance Evaluation**"
      ],
      "metadata": {
        "id": "4o_TyOOhASyu"
      }
    },
    {
      "cell_type": "code",
      "execution_count": 12,
      "metadata": {
        "colab": {
          "base_uri": "https://localhost:8080/",
          "height": 410
        },
        "id": "OYkbj9U4lHcF",
        "outputId": "64cb3a96-e63c-46a5-a965-2415f897e2c0"
      },
      "outputs": [
        {
          "output_type": "display_data",
          "data": {
            "text/plain": [
              "<Figure size 1200x400 with 2 Axes>"
            ],
            "image/png": "[encoded data removed]"
          },
          "metadata": {}
        }
      ],
      "source": [
        "# Plot training history\n",
        "plt.figure(figsize=(12, 4))\n",
        "\n",
        "# Accuracy\n",
        "plt.subplot(1, 2, 1)\n",
        "plt.plot(history.history['accuracy'], label='Train Accuracy')\n",
        "plt.plot(history.history['val_accuracy'], label='Validation Accuracy')\n",
        "plt.title('Model Accuracy')\n",
        "plt.xlabel('Epochs')\n",
        "plt.ylabel('Accuracy')\n",
        "plt.legend()\n",
        "\n",
        "# Loss\n",
        "plt.subplot(1, 2, 2)\n",
        "plt.plot(history.history['loss'], label='Train Loss')\n",
        "plt.plot(history.history['val_loss'], label='Validation Loss')\n",
        "plt.title('Model Loss')\n",
        "plt.xlabel('Epochs')\n",
        "plt.ylabel('Loss')\n",
        "plt.legend()\n",
        "\n",
        "plt.show()\n"
      ]
    },
    {
      "cell_type": "markdown",
      "source": [
        "## **Prediction On Test Data**"
      ],
      "metadata": {
        "id": "iU2Jro3_A08U"
      }
    },
    {
      "cell_type": "code",
      "execution_count": 13,
      "metadata": {
        "colab": {
          "base_uri": "https://localhost:8080/"
        },
        "id": "99rZcUxQ7DI2",
        "outputId": "434da332-c1ac-4b42-cd9a-04fccc6359a6"
      },
      "outputs": [
        {
          "output_type": "stream",
          "name": "stdout",
          "text": [
            "Found 478 files belonging to 1 classes.\n"
          ]
        }
      ],
      "source": [
        "testdata_dir = '/content/drive/MyDrive/ML Project/Test_Data/TestImages'\n",
        "test_set = tf.keras.utils.image_dataset_from_directory(testdata_dir,\n",
        "                                                       label_mode=None, #Ensures that the test set is loaded without any lables\n",
        "                                                        batch_size = bach_size,\n",
        "                                                        image_size = (img_size, img_size),\n",
        "                                                        shuffle=False # To keep the order in which the image is loaded\n",
        "                                                       )\n",
        "image_ids = sorted([f for f in os.listdir(testdata_dir) if os.path.isfile(os.path.join(testdata_dir, f))])"
      ]
    },
    {
      "cell_type": "code",
      "execution_count": 14,
      "metadata": {
        "colab": {
          "base_uri": "https://localhost:8080/"
        },
        "id": "sw4TBFI67VXd",
        "outputId": "b36664d0-d526-4d4d-a8ea-25dd01d6add3"
      },
      "outputs": [
        {
          "output_type": "stream",
          "name": "stdout",
          "text": [
            "15/15 [==============================] - 11s 569ms/step\n",
            "Predictions saved to .csv\n"
          ]
        }
      ],
      "source": [
        "# Get the list of all file names (image IDs without extension)\n",
        "image_ids = sorted([os.path.splitext(f)[0] for f in os.listdir(testdata_dir) if os.path.isfile(os.path.join(testdata_dir, f))])\n",
        "\n",
        "# Make predictions on the test dataset\n",
        "predictions = model.predict(test_set)\n",
        "\n",
        "# Convert logits to predicted classes\n",
        "predicted_classes = np.argmax(predictions, axis=1)\n",
        "\n",
        "# Mapping class indices (0,1,2,3,4) to (A,B,C,D,S) -> (1,2,3,4,5)\n",
        "class_mapping = {0: 1, 1: 2, 2: 3, 3: 4, 4: 5}\n",
        "mapped_predictions = [class_mapping[i] for i in predicted_classes]\n",
        "\n",
        "# Create a DataFrame to store image IDs and predictions\n",
        "df = pd.DataFrame({\n",
        "    'ID': image_ids,  # Using the actual image ID without .jpg extension\n",
        "    'Prediction': mapped_predictions\n",
        "})\n",
        "\n",
        "# Export the DataFrame to a CSV file\n",
        "df.to_csv('submissions.csv', index=False)\n",
        "\n",
        "print(\"Predictions saved to .csv\")"
      ]
    }
  ],
  "metadata": {
    "colab": {
      "provenance": [],
      "gpuType": "V28"
    },
    "kernelspec": {
      "display_name": "Python 3",
      "name": "python3"
    },
    "language_info": {
      "name": "python"
    },
    "accelerator": "TPU"
  },
  "nbformat": 4,
  "nbformat_minor": 0
}