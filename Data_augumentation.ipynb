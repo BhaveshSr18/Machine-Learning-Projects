{
  "nbformat": 4,
  "nbformat_minor": 0,
  "metadata": {
    "colab": {
      "provenance": [],
      "gpuType": "T4"
    },
    "kernelspec": {
      "name": "python3",
      "display_name": "Python 3"
    },
    "language_info": {
      "name": "python"
    },
    "accelerator": "GPU"
  },
  "cells": [
    {
      "cell_type": "markdown",
      "source": [
        "## **Data Augmentation Of Minority Class**"
      ],
      "metadata": {
        "id": "mPotnFs9bZ7Q"
      }
    },
    {
      "cell_type": "code",
      "source": [
        "from google.colab import drive\n",
        "import os\n",
        "import numpy as np\n",
        "import tensorflow as tf\n",
        "from tensorflow.keras.preprocessing.image import ImageDataGenerator\n",
        "from PIL import Image\n",
        "from shutil import copyfile"
      ],
      "metadata": {
        "id": "sJa-Fnm7bZZP"
      },
      "execution_count": null,
      "outputs": []
    },
    {
      "cell_type": "code",
      "source": [
        "# 1. Mount Google Drive\n",
        "drive.mount('/content/drive')"
      ],
      "metadata": {
        "id": "bsaOW82lbSne",
        "collapsed": true
      },
      "execution_count": null,
      "outputs": []
    },
    {
      "cell_type": "code",
      "source": [
        "trainset_dir = '/content/drive/MyDrive/ML Project/Project 1 Data/Train_Data'\n",
        "# Get the maximum number of images in any class\n",
        "class_counts = {}\n",
        "for class_folder in os.listdir(trainset_dir):\n",
        "    class_path = os.path.join(trainset_dir, class_folder)\n",
        "    if os.path.isdir(class_path):\n",
        "        class_counts[class_folder] = len(os.listdir(class_path))\n",
        "\n",
        "max_images = max(class_counts.values())\n",
        "print(f\"Maximum number of images in any class: {max_images}\")"
      ],
      "metadata": {
        "id": "2OApCu4kabtP"
      },
      "execution_count": null,
      "outputs": []
    },
    {
      "cell_type": "code",
      "source": [
        "# 2. Define the directory to save augmented images\n",
        "augmented_dir = '/content/drive/MyDrive/ML Project/Augmentation3'\n",
        "os.makedirs(augmented_dir, exist_ok=True)  # Create the directory if it doesn't exist"
      ],
      "metadata": {
        "id": "4c6Ekj5cbKQw"
      },
      "execution_count": null,
      "outputs": []
    },
    {
      "cell_type": "code",
      "source": [
        "# Create ImageDataGenerator for augmentation\n",
        "datagen = ImageDataGenerator(\n",
        "    rotation_range=30,\n",
        "    width_shift_range=0.2,\n",
        "    height_shift_range=0.2,\n",
        "    shear_range=0.2,\n",
        "    zoom_range=0.2,\n",
        "    horizontal_flip=True,\n",
        "    fill_mode='nearest'\n",
        ")"
      ],
      "metadata": {
        "id": "BeY7ldpBZ-qv"
      },
      "execution_count": null,
      "outputs": []
    },
    {
      "cell_type": "code",
      "source": [
        "# Oversample the minority classes\n",
        "for class_folder in os.listdir(trainset_dir):\n",
        "    class_path = os.path.join(trainset_dir, class_folder)\n",
        "    if os.path.isdir(class_path):\n",
        "        num_images = len(os.listdir(class_path))\n",
        "        print(f\"Class '{class_folder}' has {num_images} images.\")\n",
        "\n",
        "        # If the class has fewer images than the maximum, augment it\n",
        "        if num_images < 500:\n",
        "            # Create a folder for augmented data if it doesn't exist\n",
        "            aug_class_path = os.path.join(augmented_dir, class_folder)\n",
        "            os.makedirs(aug_class_path, exist_ok=True)\n",
        "\n",
        "            # Copy original images to the augmented folder\n",
        "            for img_name in os.listdir(class_path):\n",
        "                original_img_path = os.path.join(class_path, img_name)\n",
        "                copyfile(original_img_path, os.path.join(aug_class_path, img_name))\n",
        "\n",
        "            # 2 times augmentation of minority class images\n",
        "            target_num_images = num_images\n",
        "            print(f\"Generating {target_num_images} new images for class '{class_folder}'...\")\n",
        "\n",
        "            # Load images from the class folder\n",
        "            i = 0\n",
        "            for batch in datagen.flow_from_directory(\n",
        "                trainset_dir,\n",
        "                target_size=(300,400),\n",
        "                batch_size=32,\n",
        "                classes=[class_folder],\n",
        "                save_to_dir=aug_class_path,\n",
        "                save_prefix='aug',\n",
        "                save_format='jpeg'):\n",
        "\n",
        "                i += len(batch[0])\n",
        "                if i >= target_num_images:\n",
        "                    break\n",
        "\n",
        "print(\"Augmentation complete!\")"
      ],
      "metadata": {
        "id": "hTIdtif3eATk"
      },
      "execution_count": null,
      "outputs": []
    }
  ]
}